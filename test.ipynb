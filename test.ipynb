{
 "cells": [
  {
   "cell_type": "code",
   "execution_count": null,
   "source": [],
   "outputs": [],
   "metadata": {}
  },
  {
   "cell_type": "code",
   "execution_count": 1,
   "source": [],
   "outputs": [],
   "metadata": {}
  },
  {
   "cell_type": "code",
   "execution_count": 4,
   "source": [
    "from functools import reduce\r\n",
    "\"\"\"\r\n",
    "reduce 함수\r\n",
    "초기값으로 iteration을 돌면서 누적하여 lambda 함수를 처리\r\n",
    "reduce(lambda(초기값, 대상값) : 초기 + 대상, loop 대상, 초기값)\r\n",
    "\"\"\"\r\n",
    "\r\n",
    "a = {1:342,2:3142,3:235}\r\n",
    "reduce(lambda x, y: x+y, a.values(), 0)"
   ],
   "outputs": [
    {
     "output_type": "execute_result",
     "data": {
      "text/plain": [
       "3719"
      ]
     },
     "metadata": {},
     "execution_count": 4
    }
   ],
   "metadata": {}
  },
  {
   "cell_type": "code",
   "execution_count": 1,
   "source": [
    "a= [\"classic\", \"pop\", \"classic\", \"classic\", \"pop\"]\t\r\n",
    "b = [500, 600, 150, 800, 2500]"
   ],
   "outputs": [],
   "metadata": {}
  },
  {
   "cell_type": "code",
   "execution_count": 152,
   "source": [
    "a= [\"classic\", \"classic\", \"classic\", \"classic\",\"pop\"]\t\r\n",
    "b = [500, 150, 5000 ,150, 2500]\r\n",
    "c = [0,1,2,3,4]\r\n"
   ],
   "outputs": [],
   "metadata": {}
  },
  {
   "cell_type": "code",
   "execution_count": 157,
   "source": [
    "from collections import defaultdict\r\n",
    "def solution(genres, plays):\r\n",
    "    dic = defaultdict(int)\r\n",
    "    lis = defaultdict(list)\r\n",
    "    for idx,(i, j) in enumerate(zip(genres,plays)):\r\n",
    "        lis[i].append((j, idx))   \r\n",
    "        dic[i] += j\r\n",
    "    dic=sorted(dic.items(), key=lambda x: x[1],reverse=True)\r\n",
    "    answer=[]\r\n",
    "    count = 0   \r\n",
    "    for d in dic:\r\n",
    "        answer.extend([id for num, id in sorted(lis[d[0]], key=lambda x: (-x[0], x[1]))[:2]])\r\n",
    "    return answer"
   ],
   "outputs": [],
   "metadata": {}
  },
  {
   "cell_type": "code",
   "execution_count": 158,
   "source": [
    "solution(a,b)"
   ],
   "outputs": [
    {
     "output_type": "stream",
     "name": "stdout",
     "text": [
      "[('classic', 5800), ('pop', 2500)]\n"
     ]
    },
    {
     "output_type": "execute_result",
     "data": {
      "text/plain": [
       "[2, 0, 4]"
      ]
     },
     "metadata": {},
     "execution_count": 158
    }
   ],
   "metadata": {}
  },
  {
   "cell_type": "code",
   "execution_count": 159,
   "source": [
    "a= [93, 30, 55]\t\r\n",
    "b= [1, 30, 5]\t#[2, 1]\r\n",
    "c = [95, 90, 99, 99, 80, 99]\t\r\n",
    "d = [1, 1, 1, 1, 1, 1]\t#[1, 3, 2]"
   ],
   "outputs": [],
   "metadata": {}
  },
  {
   "cell_type": "code",
   "execution_count": 160,
   "source": [
    "complete = 100"
   ],
   "outputs": [],
   "metadata": {}
  },
  {
   "cell_type": "code",
   "execution_count": 176,
   "source": [
    "import math\r\n",
    "progresses, speeds\r\n"
   ],
   "outputs": [
    {
     "output_type": "execute_result",
     "data": {
      "text/plain": [
       "[7, 3, 9]"
      ]
     },
     "metadata": {},
     "execution_count": 176
    }
   ],
   "metadata": {}
  },
  {
   "cell_type": "code",
   "execution_count": 209,
   "source": [
    "def \r\n",
    "rest=[math.ceil((100 - i)/j) for i, j in zip(progresses, speeds)]\r\n",
    "count = 1\r\n",
    "idx = 0\r\n",
    "answer = []\r\n",
    "for i in range(1,len(rest)):\r\n",
    "    print(i)\r\n",
    "    if rest[idx]>=rest[i]: \r\n",
    "        count +=1\r\n",
    "        \r\n",
    "    else:\r\n",
    "        idx=i\r\n",
    "        answer.append(count)\r\n",
    "        count = 1\r\n",
    "answer.append(count)"
   ],
   "outputs": [
    {
     "output_type": "stream",
     "name": "stdout",
     "text": [
      "1\n",
      "2\n",
      "3\n",
      "4\n",
      "5\n",
      "6\n",
      "7\n"
     ]
    }
   ],
   "metadata": {}
  },
  {
   "cell_type": "code",
   "execution_count": 211,
   "source": [
    "30-100"
   ],
   "outputs": [
    {
     "output_type": "execute_result",
     "data": {
      "text/plain": [
       "-70"
      ]
     },
     "metadata": {},
     "execution_count": 211
    }
   ],
   "metadata": {}
  },
  {
   "cell_type": "code",
   "execution_count": 208,
   "source": [
    "rest=[7,4,4,4,4,10,10,15]"
   ],
   "outputs": [],
   "metadata": {}
  },
  {
   "cell_type": "code",
   "execution_count": 212,
   "source": [
    "-70//30"
   ],
   "outputs": [
    {
     "output_type": "execute_result",
     "data": {
      "text/plain": [
       "-3"
      ]
     },
     "metadata": {},
     "execution_count": 212
    }
   ],
   "metadata": {}
  },
  {
   "cell_type": "code",
   "execution_count": 398,
   "source": [
    "a=[2, 1, 3, 2]\t\r\n",
    "b= [0,1,2,3]\t\r\n",
    "#1\r\n",
    "c=[1, 1, 9, 1, 1, 1]\t\r\n",
    "d=0\t\r\n",
    "#5"
   ],
   "outputs": [],
   "metadata": {}
  },
  {
   "cell_type": "code",
   "execution_count": 401,
   "source": [
    "def solution(priorities, location):\r\n",
    "    idx = 1\r\n",
    "    jdx = 0\r\n",
    "    b=[[i,j] for i,j in enumerate(priorities)]\r\n",
    "    \r\n",
    "\r\n",
    "    while idx < len(priorities):\r\n",
    "\r\n",
    "        if b[jdx][1] < b[idx][1]:\r\n",
    "            b.append(b[jdx])\r\n",
    "            b.pop(jdx)\r\n",
    "            idx = 0\r\n",
    "        idx+=1\r\n",
    "        if idx ==len(priorities):\r\n",
    "            jdx += 1\r\n",
    "            idx = jdx\r\n",
    "\r\n",
    "    return b.index([location, priorities[location]])+1, b\r\n"
   ],
   "outputs": [],
   "metadata": {}
  },
  {
   "cell_type": "code",
   "execution_count": 402,
   "source": [
    "solution(c,0)"
   ],
   "outputs": [
    {
     "output_type": "execute_result",
     "data": {
      "text/plain": [
       "(5, [[2, 9], [3, 1], [4, 1], [5, 1], [0, 1], [1, 1]])"
      ]
     },
     "metadata": {},
     "execution_count": 402
    }
   ],
   "metadata": {}
  },
  {
   "cell_type": "code",
   "execution_count": 5,
   "source": [
    "a = [1,2,3,4,5]\r\n",
    "any(5<i for i in a), any(2<i for i in a) "
   ],
   "outputs": [
    {
     "output_type": "execute_result",
     "data": {
      "text/plain": [
       "(False, True)"
      ]
     },
     "metadata": {},
     "execution_count": 5
    }
   ],
   "metadata": {}
  },
  {
   "cell_type": "code",
   "execution_count": null,
   "source": [],
   "outputs": [],
   "metadata": {}
  }
 ],
 "metadata": {
  "orig_nbformat": 4,
  "language_info": {
   "name": "python",
   "version": "3.7.6",
   "mimetype": "text/x-python",
   "codemirror_mode": {
    "name": "ipython",
    "version": 3
   },
   "pygments_lexer": "ipython3",
   "nbconvert_exporter": "python",
   "file_extension": ".py"
  },
  "kernelspec": {
   "name": "python3",
   "display_name": "Python 3.7.6 64-bit"
  },
  "interpreter": {
   "hash": "491f1d11d91e2d650b98b1cc1dab0249501924ce5caed8751179785ec60ed53c"
  }
 },
 "nbformat": 4,
 "nbformat_minor": 2
}