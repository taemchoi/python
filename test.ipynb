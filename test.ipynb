{
 "cells": [
  {
   "cell_type": "code",
   "execution_count": null,
   "source": [],
   "outputs": [],
   "metadata": {}
  },
  {
   "cell_type": "markdown",
   "source": [],
   "metadata": {}
  },
  {
   "cell_type": "code",
   "execution_count": 1,
   "source": [],
   "outputs": [],
   "metadata": {}
  },
  {
   "cell_type": "code",
   "execution_count": 4,
   "source": [
    "from functools import reduce\r\n",
    "\"\"\"\r\n",
    "reduce 함수\r\n",
    "초기값으로 iteration을 돌면서 누적하여 lambda 함수를 처리\r\n",
    "reduce(lambda(초기값, 대상값) : 초기 + 대상, loop 대상, 초기값)\r\n",
    "\"\"\"\r\n",
    "\r\n",
    "a = {1:342,2:3142,3:235}\r\n",
    "reduce(lambda x, y: x+y, a.values(), 0)"
   ],
   "outputs": [
    {
     "output_type": "execute_result",
     "data": {
      "text/plain": [
       "3719"
      ]
     },
     "metadata": {},
     "execution_count": 4
    }
   ],
   "metadata": {}
  },
  {
   "cell_type": "code",
   "execution_count": 1,
   "source": [
    "a= [\"classic\", \"pop\", \"classic\", \"classic\", \"pop\"]\t\r\n",
    "b = [500, 600, 150, 800, 2500]"
   ],
   "outputs": [],
   "metadata": {}
  },
  {
   "cell_type": "code",
   "execution_count": 152,
   "source": [
    "a= [\"classic\", \"classic\", \"classic\", \"classic\",\"pop\"]\t\r\n",
    "b = [500, 150, 5000 ,150, 2500]\r\n",
    "c = [0,1,2,3,4]\r\n"
   ],
   "outputs": [],
   "metadata": {}
  },
  {
   "cell_type": "code",
   "execution_count": 157,
   "source": [
    "from collections import defaultdict\r\n",
    "def solution(genres, plays):\r\n",
    "    dic = defaultdict(int)\r\n",
    "    lis = defaultdict(list)\r\n",
    "    for idx,(i, j) in enumerate(zip(genres,plays)):\r\n",
    "        lis[i].append((j, idx))   \r\n",
    "        dic[i] += j\r\n",
    "    dic=sorted(dic.items(), key=lambda x: x[1],reverse=True)\r\n",
    "    answer=[]\r\n",
    "    count = 0   \r\n",
    "    for d in dic:\r\n",
    "        answer.extend([id for num, id in sorted(lis[d[0]], key=lambda x: (-x[0], x[1]))[:2]])\r\n",
    "    return answer"
   ],
   "outputs": [],
   "metadata": {}
  },
  {
   "cell_type": "code",
   "execution_count": 158,
   "source": [
    "solution(a,b)"
   ],
   "outputs": [
    {
     "output_type": "stream",
     "name": "stdout",
     "text": [
      "[('classic', 5800), ('pop', 2500)]\n"
     ]
    },
    {
     "output_type": "execute_result",
     "data": {
      "text/plain": [
       "[2, 0, 4]"
      ]
     },
     "metadata": {},
     "execution_count": 158
    }
   ],
   "metadata": {}
  },
  {
   "cell_type": "code",
   "execution_count": 159,
   "source": [
    "a= [93, 30, 55]\t\r\n",
    "b= [1, 30, 5]\t#[2, 1]\r\n",
    "c = [95, 90, 99, 99, 80, 99]\t\r\n",
    "d = [1, 1, 1, 1, 1, 1]\t#[1, 3, 2]"
   ],
   "outputs": [],
   "metadata": {}
  },
  {
   "cell_type": "code",
   "execution_count": 160,
   "source": [
    "complete = 100"
   ],
   "outputs": [],
   "metadata": {}
  },
  {
   "cell_type": "code",
   "execution_count": 176,
   "source": [
    "import math\r\n",
    "progresses, speeds\r\n"
   ],
   "outputs": [
    {
     "output_type": "execute_result",
     "data": {
      "text/plain": [
       "[7, 3, 9]"
      ]
     },
     "metadata": {},
     "execution_count": 176
    }
   ],
   "metadata": {}
  },
  {
   "cell_type": "code",
   "execution_count": 209,
   "source": [
    "def \r\n",
    "rest=[math.ceil((100 - i)/j) for i, j in zip(progresses, speeds)]\r\n",
    "count = 1\r\n",
    "idx = 0\r\n",
    "answer = []\r\n",
    "for i in range(1,len(rest)):\r\n",
    "    print(i)\r\n",
    "    if rest[idx]>=rest[i]: \r\n",
    "        count +=1\r\n",
    "        \r\n",
    "    else:\r\n",
    "        idx=i\r\n",
    "        answer.append(count)\r\n",
    "        count = 1\r\n",
    "answer.append(count)"
   ],
   "outputs": [
    {
     "output_type": "stream",
     "name": "stdout",
     "text": [
      "1\n",
      "2\n",
      "3\n",
      "4\n",
      "5\n",
      "6\n",
      "7\n"
     ]
    }
   ],
   "metadata": {}
  },
  {
   "cell_type": "code",
   "execution_count": 211,
   "source": [
    "30-100"
   ],
   "outputs": [
    {
     "output_type": "execute_result",
     "data": {
      "text/plain": [
       "-70"
      ]
     },
     "metadata": {},
     "execution_count": 211
    }
   ],
   "metadata": {}
  },
  {
   "cell_type": "code",
   "execution_count": 208,
   "source": [
    "rest=[7,4,4,4,4,10,10,15]"
   ],
   "outputs": [],
   "metadata": {}
  },
  {
   "cell_type": "code",
   "execution_count": 212,
   "source": [
    "-70//30"
   ],
   "outputs": [
    {
     "output_type": "execute_result",
     "data": {
      "text/plain": [
       "-3"
      ]
     },
     "metadata": {},
     "execution_count": 212
    }
   ],
   "metadata": {}
  },
  {
   "cell_type": "code",
   "execution_count": 398,
   "source": [
    "a=[2, 1, 3, 2]\t\r\n",
    "b= [0,1,2,3]\t\r\n",
    "#1\r\n",
    "c=[1, 1, 9, 1, 1, 1]\t\r\n",
    "d=0\t\r\n",
    "#5"
   ],
   "outputs": [],
   "metadata": {}
  },
  {
   "cell_type": "code",
   "execution_count": 401,
   "source": [
    "def solution(priorities, location):\r\n",
    "    idx = 1\r\n",
    "    jdx = 0\r\n",
    "    b=[[i,j] for i,j in enumerate(priorities)]\r\n",
    "    \r\n",
    "\r\n",
    "    while idx < len(priorities):\r\n",
    "\r\n",
    "        if b[jdx][1] < b[idx][1]:\r\n",
    "            b.append(b[jdx])\r\n",
    "            b.pop(jdx)\r\n",
    "            idx = 0\r\n",
    "        idx+=1\r\n",
    "        if idx ==len(priorities):\r\n",
    "            jdx += 1\r\n",
    "            idx = jdx\r\n",
    "\r\n",
    "    return b.index([location, priorities[location]])+1, b\r\n"
   ],
   "outputs": [],
   "metadata": {}
  },
  {
   "cell_type": "code",
   "execution_count": 402,
   "source": [
    "solution(c,0)"
   ],
   "outputs": [
    {
     "output_type": "execute_result",
     "data": {
      "text/plain": [
       "(5, [[2, 9], [3, 1], [4, 1], [5, 1], [0, 1], [1, 1]])"
      ]
     },
     "metadata": {},
     "execution_count": 402
    }
   ],
   "metadata": {}
  },
  {
   "cell_type": "code",
   "execution_count": 5,
   "source": [
    "a = [1,2,3,4,5]\r\n",
    "any(5<i for i in a), any(2<i for i in a) "
   ],
   "outputs": [
    {
     "output_type": "execute_result",
     "data": {
      "text/plain": [
       "(False, True)"
      ]
     },
     "metadata": {},
     "execution_count": 5
    }
   ],
   "metadata": {}
  },
  {
   "cell_type": "code",
   "execution_count": 1,
   "source": [
    "import heapq"
   ],
   "outputs": [],
   "metadata": {}
  },
  {
   "cell_type": "code",
   "execution_count": 53,
   "source": [
    "def solution(operations):\r\n",
    "    answer = []\r\n",
    "    heapq.heapify(answer)\r\n",
    "    for i in operations:\r\n",
    "        if i[0] == 'I':\r\n",
    "            heapq.heappush(answer, int(i.split(' ')[-1]))\r\n",
    "        elif answer != []:\r\n",
    "            if int(i.split(' ')[-1])< 0:\r\n",
    "                heapq.heappop(answer)\r\n",
    "            else:\r\n",
    "                answer = sorted(answer)\r\n",
    "                answer.pop(-1)\r\n",
    "    if answer == []:\r\n",
    "        return [0,0]\r\n",
    "    else:\r\n",
    "        return [sorted(answer)[-1], sorted(answer)[0]]"
   ],
   "outputs": [],
   "metadata": {}
  },
  {
   "cell_type": "code",
   "execution_count": 56,
   "source": [
    "solution([\"I 2\",\"I 4\",\"D -1\", \"I 1\", \"D 1\"])"
   ],
   "outputs": [
    {
     "output_type": "stream",
     "name": "stdout",
     "text": [
      "I 2\n",
      "I 4\n",
      "D -1\n",
      "I 1\n",
      "D 1\n"
     ]
    },
    {
     "output_type": "execute_result",
     "data": {
      "text/plain": [
       "[1, 1]"
      ]
     },
     "metadata": {},
     "execution_count": 56
    }
   ],
   "metadata": {}
  },
  {
   "cell_type": "code",
   "execution_count": 30,
   "source": [
    "테스트 1\r\n",
    "입력값 〉\t[\"I 16\", \"I -5643\", \"D -1\", \"D 1\", \"D 1\", \"I 123\", \"D -1\"]"
   ],
   "outputs": [],
   "metadata": {}
  },
  {
   "cell_type": "code",
   "execution_count": 31,
   "source": [
    "a.pop(-1)"
   ],
   "outputs": [
    {
     "output_type": "execute_result",
     "data": {
      "text/plain": [
       "16"
      ]
     },
     "metadata": {},
     "execution_count": 31
    }
   ],
   "metadata": {}
  },
  {
   "cell_type": "code",
   "execution_count": 32,
   "source": [
    "a"
   ],
   "outputs": [
    {
     "output_type": "execute_result",
     "data": {
      "text/plain": [
       "[15]"
      ]
     },
     "metadata": {},
     "execution_count": 32
    }
   ],
   "metadata": {}
  },
  {
   "cell_type": "code",
   "execution_count": 57,
   "source": [
    "array = [1,5,2,6,3,7,4]\r\n",
    "commands = [[2, 5, 3], [4, 4, 1], [1, 7, 3]]"
   ],
   "outputs": [],
   "metadata": {}
  },
  {
   "cell_type": "code",
   "execution_count": 70,
   "source": [
    "\r\n",
    "answer = [sorted(array[i[0]-1:i[1]])[i[2]-1] for i in commands]"
   ],
   "outputs": [],
   "metadata": {}
  },
  {
   "cell_type": "code",
   "execution_count": 71,
   "source": [
    "answer"
   ],
   "outputs": [
    {
     "output_type": "execute_result",
     "data": {
      "text/plain": [
       "[5, 6, 3]"
      ]
     },
     "metadata": {},
     "execution_count": 71
    }
   ],
   "metadata": {}
  },
  {
   "cell_type": "code",
   "execution_count": 120,
   "source": [
    "numbers = [3, 30, 34, 5, 9]\r\n",
    "number = [(i//10**(len(str(i))-1),i) for i in numbers]"
   ],
   "outputs": [],
   "metadata": {}
  },
  {
   "cell_type": "code",
   "execution_count": 121,
   "source": [
    "answer=sorted(number,reverse=True)"
   ],
   "outputs": [],
   "metadata": {}
  },
  {
   "cell_type": "code",
   "execution_count": 122,
   "source": [
    " = []\r\n",
    "for i in answer:\r\n",
    "    if i[0]==1:\r\n",
    "        a"
   ],
   "outputs": [],
   "metadata": {}
  },
  {
   "cell_type": "code",
   "execution_count": 157,
   "source": [
    "def solution(numbers):\r\n",
    "    numbers_str = [str(num) for num in numbers]\r\n",
    "    numbers_str.sort(key=lambda num: num*3, reverse=True)\r\n",
    "    return str(int(''.join(numbers_str)))"
   ],
   "outputs": [],
   "metadata": {}
  },
  {
   "cell_type": "code",
   "execution_count": 189,
   "source": [
    "a=[3, 0, 6, 1, 5]\r\n",
    "a = sorted(a)"
   ],
   "outputs": [],
   "metadata": {}
  },
  {
   "cell_type": "code",
   "execution_count": 191,
   "source": [
    "for i in range(len(a)):\r\n",
    "    if a[i] >=len(a)-i:\r\n",
    "        print(len(a)-i) \r\n",
    "                "
   ],
   "outputs": [
    {
     "output_type": "stream",
     "name": "stdout",
     "text": [
      "3\n",
      "2\n",
      "1\n"
     ]
    }
   ],
   "metadata": {}
  },
  {
   "cell_type": "code",
   "execution_count": 270,
   "source": [
    "def solution(citations):\r\n",
    "    answer = []\r\n",
    "    citations=sorted(citations, reverse=True)\r\n",
    "    for i in citations:\r\n",
    "        count = 0\r\n",
    "        for j in citations:\r\n",
    "            if j>=i:\r\n",
    "                count+=1\r\n",
    "        if count >= i:\r\n",
    "            return i\r\n"
   ],
   "outputs": [],
   "metadata": {}
  },
  {
   "cell_type": "code",
   "execution_count": 273,
   "source": [
    "solution(a)"
   ],
   "outputs": [
    {
     "output_type": "execute_result",
     "data": {
      "text/plain": [
       "1"
      ]
     },
     "metadata": {},
     "execution_count": 273
    }
   ],
   "metadata": {}
  },
  {
   "cell_type": "code",
   "execution_count": 272,
   "source": [
    "a= [0, 0, 0, 0, 1]"
   ],
   "outputs": [],
   "metadata": {}
  },
  {
   "cell_type": "code",
   "execution_count": 266,
   "source": [
    "a=sorted(a, reverse=True)"
   ],
   "outputs": [],
   "metadata": {}
  },
  {
   "cell_type": "code",
   "execution_count": 255,
   "source": [
    "max(map(min, enumerate(a, start=1)))"
   ],
   "outputs": [
    {
     "output_type": "execute_result",
     "data": {
      "text/plain": [
       "5"
      ]
     },
     "metadata": {},
     "execution_count": 255
    }
   ],
   "metadata": {}
  },
  {
   "cell_type": "code",
   "execution_count": 267,
   "source": [
    "for i in enumerate(a, start=1):\r\n",
    "    print(min(i))"
   ],
   "outputs": [
    {
     "output_type": "stream",
     "name": "stdout",
     "text": [
      "1\n",
      "2\n",
      "3\n",
      "4\n",
      "5\n",
      "3\n",
      "3\n"
     ]
    }
   ],
   "metadata": {}
  },
  {
   "cell_type": "code",
   "execution_count": 275,
   "source": [
    "[3, 0, 6, 1, 5]*4"
   ],
   "outputs": [
    {
     "output_type": "execute_result",
     "data": {
      "text/plain": [
       "[3, 0, 6, 1, 5, 3, 0, 6, 1, 5, 3, 0, 6, 1, 5, 3, 0, 6, 1, 5]"
      ]
     },
     "metadata": {},
     "execution_count": 275
    }
   ],
   "metadata": {}
  },
  {
   "cell_type": "code",
   "execution_count": 280,
   "source": [
    "def solution(answers):\r\n",
    "    answer = []\r\n",
    "    a = [1,2,3,4,5]*8\r\n",
    "    b = [2,1,2,3,2,4,2,5]*5\r\n",
    "    c = [3,3,1,1,2,2,4,4,5,5]*4\r\n",
    "    if len(a) < len(answers):\r\n",
    "        num = (len(answers)//len(a)+1)\r\n",
    "        a *=num\r\n",
    "        b *=num\r\n",
    "        c *=num\r\n",
    "    count = [0,0,0]\r\n",
    "    for idx, i in enumerate(answers):\r\n",
    "        if a[idx] == i:\r\n",
    "            count[0]+=1\r\n",
    "        if b[idx] == i:\r\n",
    "            count[1]+=1\r\n",
    "        if c[idx] == i:\r\n",
    "            count[2]+=1\r\n",
    "    for idx, i in enumerate(count, start=1):\r\n",
    "        if i>=max(count):\r\n",
    "            answer.append(idx)\r\n",
    "    return answer"
   ],
   "outputs": [],
   "metadata": {}
  },
  {
   "cell_type": "code",
   "execution_count": 283,
   "source": [
    "a =[1,3,2,4,2]"
   ],
   "outputs": [],
   "metadata": {}
  },
  {
   "cell_type": "code",
   "execution_count": 284,
   "source": [
    "solution(a)"
   ],
   "outputs": [
    {
     "output_type": "execute_result",
     "data": {
      "text/plain": [
       "[1, 2, 3]"
      ]
     },
     "metadata": {},
     "execution_count": 284
    }
   ],
   "metadata": {}
  },
  {
   "cell_type": "code",
   "execution_count": null,
   "source": [
    "\"17\"\t3\r\n",
    "\"011\"\t2"
   ],
   "outputs": [],
   "metadata": {}
  },
  {
   "cell_type": "code",
   "execution_count": 331,
   "source": [
    "a=[i for i in '17']"
   ],
   "outputs": [],
   "metadata": {}
  },
  {
   "cell_type": "code",
   "execution_count": 300,
   "source": [
    "def gen_primenum_list2(num_range):\r\n",
    "    prime_list = [2] # 처음 소수\r\n",
    "    \r\n",
    "    next_num = 3 # 다음 소수\r\n",
    "    while next_num <= num_range:\r\n",
    "        for p in prime_list:\r\n",
    "            if p > next_num / p:\r\n",
    "                prime_list.append(next_num)\r\n",
    "                break\r\n",
    "            if next_num % p == 0:\r\n",
    "                break\r\n",
    "        next_num +=  1\r\n",
    "    return prime_list"
   ],
   "outputs": [],
   "metadata": {}
  },
  {
   "cell_type": "code",
   "execution_count": 342,
   "source": [],
   "outputs": [],
   "metadata": {}
  },
  {
   "cell_type": "code",
   "execution_count": 363,
   "source": [
    "a='17'"
   ],
   "outputs": [],
   "metadata": {}
  },
  {
   "cell_type": "code",
   "execution_count": 383,
   "source": [
    "from itertools import permutations, combinations\r\n"
   ],
   "outputs": [],
   "metadata": {}
  },
  {
   "cell_type": "code",
   "execution_count": 385,
   "source": [],
   "outputs": [
    {
     "output_type": "execute_result",
     "data": {
      "text/plain": [
       "[2, 3, 5, 7, 11, 13, 17, 19, 23, 29, 31, 37, 41, 43, 47, 53, 59, 61, 67, 71]"
      ]
     },
     "metadata": {},
     "execution_count": 385
    }
   ],
   "metadata": {}
  },
  {
   "cell_type": "code",
   "execution_count": 386,
   "source": [
    "c"
   ],
   "outputs": [
    {
     "output_type": "execute_result",
     "data": {
      "text/plain": [
       "[71, 17, 7, 1]"
      ]
     },
     "metadata": {},
     "execution_count": 386
    }
   ],
   "metadata": {}
  },
  {
   "cell_type": "code",
   "execution_count": 391,
   "source": [
    "num = 10\r\n",
    "def cal_yack(num):\r\n",
    "    yack = []\r\n",
    "    for i in range(1, num+1):\r\n",
    "        if num % i == 0:\r\n",
    "            yack.append(i)\r\n",
    "    return yack"
   ],
   "outputs": [],
   "metadata": {}
  },
  {
   "cell_type": "code",
   "execution_count": 393,
   "source": [
    "num_yack=cal_yack(10)"
   ],
   "outputs": [],
   "metadata": {}
  },
  {
   "cell_type": "code",
   "execution_count": 399,
   "source": [],
   "outputs": [],
   "metadata": {}
  },
  {
   "cell_type": "code",
   "execution_count": 465,
   "source": [
    "\r\n",
    "    def solution(brown, yellow):\r\n",
    "        num = brown+yellow\r\n",
    "        a = []\r\n",
    "        for i in range(1, num+1):\r\n",
    "            if num%i==0 and (i-2)*(num//i-2) == yellow:\r\n",
    "                return [num//i, i]\r\n",
    "        "
   ],
   "outputs": [],
   "metadata": {}
  },
  {
   "cell_type": "code",
   "execution_count": 468,
   "source": [
    "solution(24,24)"
   ],
   "outputs": [
    {
     "output_type": "execute_result",
     "data": {
      "text/plain": [
       "[8, 6]"
      ]
     },
     "metadata": {},
     "execution_count": 468
    }
   ],
   "metadata": {}
  },
  {
   "cell_type": "code",
   "execution_count": 480,
   "source": [
    "arr = [i+1 for i in range(5)]"
   ],
   "outputs": [],
   "metadata": {}
  },
  {
   "cell_type": "code",
   "execution_count": 603,
   "source": [
    "import copy\r\n",
    "def solution(n, lost, reserve):\r\n",
    "    reser_del = set(reserve)-set(lost) \r\n",
    "    lost_del = set(lost)-set(reserve) \r\n",
    "    print(reser_del, lost_del)\r\n",
    "    "
   ],
   "outputs": [],
   "metadata": {}
  },
  {
   "cell_type": "code",
   "execution_count": 604,
   "source": [
    "solution(5,[2,4],[2,1,3])"
   ],
   "outputs": [
    {
     "output_type": "stream",
     "name": "stdout",
     "text": [
      "{1, 3} {4}\n"
     ]
    }
   ],
   "metadata": {}
  },
  {
   "cell_type": "code",
   "execution_count": 579,
   "source": [
    "for i in [1,3,5]:\r\n",
    "    if i not in [2,4]:\r\n",
    "        answer.pop(0)\r\n",
    "print(n-len(lost))"
   ],
   "outputs": [],
   "metadata": {}
  },
  {
   "cell_type": "code",
   "execution_count": 610,
   "source": [
    "ord('J')"
   ],
   "outputs": [
    {
     "output_type": "execute_result",
     "data": {
      "text/plain": [
       "74"
      ]
     },
     "metadata": {},
     "execution_count": 610
    }
   ],
   "metadata": {}
  },
  {
   "cell_type": "code",
   "execution_count": 609,
   "source": [
    "answer= ''\r\n",
    "for i, char in enumerate('AHHH'):\r\n",
    "        answer += min(ord(char) - ord('A'), ord('Z') - ord(char) + 1)"
   ],
   "outputs": [
    {
     "output_type": "error",
     "ename": "TypeError",
     "evalue": "can only concatenate str (not \"int\") to str",
     "traceback": [
      "\u001b[1;31m---------------------------------------------------------------------------\u001b[0m",
      "\u001b[1;31mTypeError\u001b[0m                                 Traceback (most recent call last)",
      "\u001b[1;32m<ipython-input-609-9abafca9748f>\u001b[0m in \u001b[0;36m<module>\u001b[1;34m\u001b[0m\n\u001b[0;32m      1\u001b[0m \u001b[0manswer\u001b[0m\u001b[1;33m=\u001b[0m \u001b[1;34m''\u001b[0m\u001b[1;33m\u001b[0m\u001b[1;33m\u001b[0m\u001b[0m\n\u001b[0;32m      2\u001b[0m \u001b[1;32mfor\u001b[0m \u001b[0mi\u001b[0m\u001b[1;33m,\u001b[0m \u001b[0mchar\u001b[0m \u001b[1;32min\u001b[0m \u001b[0menumerate\u001b[0m\u001b[1;33m(\u001b[0m\u001b[1;34m'AHHH'\u001b[0m\u001b[1;33m)\u001b[0m\u001b[1;33m:\u001b[0m\u001b[1;33m\u001b[0m\u001b[1;33m\u001b[0m\u001b[0m\n\u001b[1;32m----> 3\u001b[1;33m         \u001b[0manswer\u001b[0m \u001b[1;33m+=\u001b[0m \u001b[0mmin\u001b[0m\u001b[1;33m(\u001b[0m\u001b[0mord\u001b[0m\u001b[1;33m(\u001b[0m\u001b[0mchar\u001b[0m\u001b[1;33m)\u001b[0m \u001b[1;33m-\u001b[0m \u001b[0mord\u001b[0m\u001b[1;33m(\u001b[0m\u001b[1;34m'A'\u001b[0m\u001b[1;33m)\u001b[0m\u001b[1;33m,\u001b[0m \u001b[0mord\u001b[0m\u001b[1;33m(\u001b[0m\u001b[1;34m'Z'\u001b[0m\u001b[1;33m)\u001b[0m \u001b[1;33m-\u001b[0m \u001b[0mord\u001b[0m\u001b[1;33m(\u001b[0m\u001b[0mchar\u001b[0m\u001b[1;33m)\u001b[0m \u001b[1;33m+\u001b[0m \u001b[1;36m1\u001b[0m\u001b[1;33m)\u001b[0m\u001b[1;33m\u001b[0m\u001b[1;33m\u001b[0m\u001b[0m\n\u001b[0m",
      "\u001b[1;31mTypeError\u001b[0m: can only concatenate str (not \"int\") to str"
     ]
    }
   ],
   "metadata": {}
  },
  {
   "cell_type": "code",
   "execution_count": 631,
   "source": [
    "from itertools import combinations\r\n",
    "num = '4177252841'\r\n"
   ],
   "outputs": [],
   "metadata": {}
  },
  {
   "cell_type": "code",
   "execution_count": 632,
   "source": [
    "def solution(num, k):\r\n",
    "    number=[i for i in num]\r\n",
    "    return max([''.join(i) for i in list(combinations(number,len(num)-k))])\r\n",
    "    "
   ],
   "outputs": [
    {
     "output_type": "execute_result",
     "data": {
      "text/plain": [
       "'775841'"
      ]
     },
     "metadata": {},
     "execution_count": 632
    }
   ],
   "metadata": {}
  },
  {
   "cell_type": "code",
   "execution_count": 641,
   "source": [
    "num = '4177252841'\r\n",
    "k = 4\r\n",
    "number=[i for i in num]\r\n",
    "max(map(lambda x: ''.join(x),combinations(number,len(num)-k)))"
   ],
   "outputs": [
    {
     "output_type": "execute_result",
     "data": {
      "text/plain": [
       "'775841'"
      ]
     },
     "metadata": {},
     "execution_count": 641
    }
   ],
   "metadata": {}
  },
  {
   "cell_type": "code",
   "execution_count": null,
   "source": [
    "answer = []\r\n",
    "for i in range(len(num)):\r\n",
    "    for j in range(i+1,len(num)):\r\n",
    "        if k >0:\r\n",
    "            num[i]> num[j]"
   ],
   "outputs": [],
   "metadata": {}
  },
  {
   "cell_type": "code",
   "execution_count": 33,
   "source": [
    "people = [70, 50, 80, 50]\r\n",
    "limit = 100\r\n",
    "people = sorted(people, reverse= True)\r\n"
   ],
   "outputs": [],
   "metadata": {}
  },
  {
   "cell_type": "code",
   "execution_count": 34,
   "source": [
    "people"
   ],
   "outputs": [
    {
     "output_type": "execute_result",
     "data": {
      "text/plain": [
       "[80, 70, 50, 50]"
      ]
     },
     "metadata": {},
     "execution_count": 34
    }
   ],
   "metadata": {}
  },
  {
   "cell_type": "code",
   "execution_count": 94,
   "source": [
    "import copy\r\n",
    "def solution(people, limit):\r\n",
    "    count = 0\r\n",
    "    one_limit = limit/2\r\n",
    "    people = sorted(people)\r\n",
    "    for i in people:\r\n",
    "        if i <= one_limit:\r\n",
    "            count +=1\r\n",
    "        else:\r\n",
    "            break\r\n",
    "    answer = len(people)-count + count//2 + count%2\r\n",
    "    return answer"
   ],
   "outputs": [],
   "metadata": {}
  },
  {
   "cell_type": "code",
   "execution_count": 95,
   "source": [
    "solution([10, 20, 30, 40, 50, 60, 70, 80, 90], 100)"
   ],
   "outputs": [
    {
     "output_type": "execute_result",
     "data": {
      "text/plain": [
       "7"
      ]
     },
     "metadata": {},
     "execution_count": 95
    }
   ],
   "metadata": {}
  },
  {
   "cell_type": "code",
   "execution_count": 79,
   "source": [
    "[i for i in [70, 50, 80, 50]]"
   ],
   "outputs": [
    {
     "output_type": "execute_result",
     "data": {
      "text/plain": [
       "[35.0, 25.0, 40.0, 25.0]"
      ]
     },
     "metadata": {},
     "execution_count": 79
    }
   ],
   "metadata": {}
  },
  {
   "cell_type": "code",
   "execution_count": 87,
   "source": [
    "a=[70, 50, 80, 50].sort()"
   ],
   "outputs": [],
   "metadata": {}
  },
  {
   "cell_type": "code",
   "execution_count": 97,
   "source": [
    " costs = [[0,1,1],[0,2,2],[1,2,5],[1,3,1],[2,3,8]]\r\n",
    " costs.sort(key = lambda x: x[2])"
   ],
   "outputs": [],
   "metadata": {}
  },
  {
   "cell_type": "code",
   "execution_count": 100,
   "source": [
    "costs"
   ],
   "outputs": [
    {
     "output_type": "execute_result",
     "data": {
      "text/plain": [
       "[[0, 1, 1], [1, 3, 1], [0, 2, 2], [1, 2, 5], [2, 3, 8]]"
      ]
     },
     "metadata": {},
     "execution_count": 100
    }
   ],
   "metadata": {}
  },
  {
   "cell_type": "code",
   "execution_count": 111,
   "source": [
    "n=4\r\n",
    "answer  = 0\r\n",
    "node = []\r\n",
    "while len(node)<n:\r\n",
    "    for i in costs:\r\n",
    "        if i==costs[0]:\r\n",
    "            node.append(i[0])\r\n",
    "            node.append(i[1])\r\n",
    "            answer+= i[2]\r\n",
    "        if i[0] in node and i[1] not in node:\r\n",
    "            node.append(i[1])\r\n",
    "            answer += i[2]\r\n"
   ],
   "outputs": [],
   "metadata": {}
  },
  {
   "cell_type": "code",
   "execution_count": 19,
   "source": [
    "def solution(n, costs):\r\n",
    "    costs.sort(key = lambda x: x[2])\r\n",
    "    answer  = costs[0][2]\r\n",
    "    node = set([costs[0][0], costs[0][1]])\r\n",
    "    while len(node)<n:\r\n",
    "        for idx, i in enumerate(costs[1:]):\r\n",
    "            if i[0] in node and i[1] in node:\r\n",
    "                continue\r\n",
    "            if i[0] in node or i[1] in node:\r\n",
    "                node.update([i[0],i[1]])\r\n",
    "                answer += i[2]\r\n",
    "                costs[idx+1]= [-1,-1,-1]\r\n",
    "    return answer"
   ],
   "outputs": [],
   "metadata": {}
  },
  {
   "cell_type": "code",
   "execution_count": 20,
   "source": [
    "solution(4, [[0,1,1],[0,2,2],[1,2,5],[1,2,1],[1,2,1],[1,3,1],[2,3,1],[2,3,8]])"
   ],
   "outputs": [
    {
     "output_type": "stream",
     "name": "stdout",
     "text": [
      "{0, 1, 2, 3}\n"
     ]
    },
    {
     "output_type": "execute_result",
     "data": {
      "text/plain": [
       "3"
      ]
     },
     "metadata": {},
     "execution_count": 20
    }
   ],
   "metadata": {}
  },
  {
   "cell_type": "code",
   "execution_count": 21,
   "source": [
    "print(solution(4,[[0,1,1],[0,2,1],[1,2,1],[1,3,1],[2,3,8]]))\r\n",
    "print(solution(5,[[1,2,3],[0,1,1],[0,4,5],[2,4,1],[2,3,1],[3,4,1]]))\r\n",
    "print(solution(5,[[0,1,5],[1,2,3],[2,3,3],[3,1,2],[3,0,4],[2,4,6],[4,0,7]]))\r\n",
    "print(solution(5,[[0, 1, 1], [2, 3, 1], [3, 4, 2], [1, 2, 2], [0, 4, 100]]))\r\n",
    "print(solution(4, [[0, 1, 5], [1, 2, 3], [2, 3, 3], [3, 1, 2], [3, 0, 4]]))\r\n",
    "print(solution(4,[[0,1,1],[0,2,2],[2,3,1]]))\r\n",
    "print(solution(7, [[1,0,1],[3,2,1],[4,5,1],[3,5,9],[3,6,10],[1,6,1],[6,5,1]]))\r\n",
    "print(solution(6,[[0, 1, 5], [0, 3, 2], [0, 4, 3], [1, 4, 1], [3, 4, 10], [1, 2, 2], [2, 5, 3], [4, 5, 4]]))\r\n",
    "print(solution(6, [[0,1,1],[3,1,1],[2,3,3],[2,4,4],[5,4,5]]))\r\n",
    "print(solution(5,[[0,1,1],[3,4,1],[1,2,2],[2,3,4]]))"
   ],
   "outputs": [
    {
     "output_type": "stream",
     "name": "stdout",
     "text": [
      "{0, 1, 2, 3}\n",
      "3\n",
      "{0, 1, 2, 3, 4}\n",
      "10\n",
      "{0, 1, 2, 3, 4}\n",
      "15\n",
      "{0, 1, 2, 3, 4}\n",
      "104\n",
      "{0, 1, 2, 3}\n",
      "9\n",
      "{0, 1, 2, 3}\n",
      "4\n",
      "{0, 1, 2, 3, 4, 5, 6}\n",
      "14\n",
      "{0, 1, 2, 3, 4, 5}\n",
      "19\n",
      "{0, 1, 2, 3, 4, 5}\n",
      "14\n",
      "{0, 1, 2, 3, 4}\n",
      "8\n"
     ]
    }
   ],
   "metadata": {}
  },
  {
   "cell_type": "code",
   "execution_count": 29,
   "source": [
    "a=set([1,2])"
   ],
   "outputs": [],
   "metadata": {}
  },
  {
   "cell_type": "code",
   "execution_count": 31,
   "source": [
    "a.update([2,3])"
   ],
   "outputs": [],
   "metadata": {}
  },
  {
   "cell_type": "code",
   "execution_count": 32,
   "source": [
    "a"
   ],
   "outputs": [
    {
     "output_type": "execute_result",
     "data": {
      "text/plain": [
       "{1, 2, 3}"
      ]
     },
     "metadata": {},
     "execution_count": 32
    }
   ],
   "metadata": {}
  },
  {
   "cell_type": "code",
   "execution_count": 52,
   "source": [
    "a=[[-20,15], [-14,-5], [1,2], [0, 3], [11, 14],[-18,-13], [-5,-3]]"
   ],
   "outputs": [],
   "metadata": {}
  },
  {
   "cell_type": "code",
   "execution_count": 53,
   "source": [
    "a.sort(key = lambda x:x[1])"
   ],
   "outputs": [],
   "metadata": {}
  },
  {
   "cell_type": "code",
   "execution_count": 54,
   "source": [
    "a"
   ],
   "outputs": [
    {
     "output_type": "execute_result",
     "data": {
      "text/plain": [
       "[[-18, -13], [-14, -5], [-5, -3], [1, 2], [0, 3], [11, 14], [-20, 15]]"
      ]
     },
     "metadata": {},
     "execution_count": 54
    }
   ],
   "metadata": {}
  },
  {
   "cell_type": "code",
   "execution_count": 50,
   "source": [
    "b  = set([a[0][0], a[0][1]])\r\n",
    "for i in a:\r\n",
    "    b.update([i[0], i[1]])"
   ],
   "outputs": [],
   "metadata": {}
  },
  {
   "cell_type": "code",
   "execution_count": 51,
   "source": [
    "for i in range(b[0], b[-1]):\r\n",
    "    for j in a:\r\n",
    "        i"
   ],
   "outputs": [
    {
     "output_type": "execute_result",
     "data": {
      "text/plain": [
       "{-20, -18, -14, -13, -5, -3, 0, 1, 2, 3, 11, 14, 15}"
      ]
     },
     "metadata": {},
     "execution_count": 51
    }
   ],
   "metadata": {}
  },
  {
   "cell_type": "code",
   "execution_count": 79,
   "source": [
    "N = 5\r\n",
    "number = 12\r\n",
    "caseset = [set([0]), set([5])]\r\n",
    "\r\n",
    "caseset"
   ],
   "outputs": [
    {
     "output_type": "execute_result",
     "data": {
      "text/plain": [
       "[{0}, {5}]"
      ]
     },
     "metadata": {},
     "execution_count": 79
    }
   ],
   "metadata": {}
  },
  {
   "cell_type": "code",
   "execution_count": 86,
   "source": [
    "if number in caseset[i]:\r\n",
    "    answer = i\r\n",
    "    break\r\n",
    "for i in range(2,9):               \r\n",
    "    cases = {int(str(N)*i)}       \r\n",
    "    for j in range(1, i):               \r\n",
    "        for y in caseset[j]:        \r\n",
    "            for x in caseset[i-j]:    \r\n",
    "                cases.add(x+y)\r\n",
    "                cases.add(x-y)\r\n",
    "                cases.add(x*y)\r\n",
    "                if y!=0:\r\n",
    "                    cases.add(x//y)\r\n",
    "                if x !=0:\r\n",
    "                    cases.add(y//x)\r\n",
    "    caseset.append(cases)\r\n",
    "\r\n",
    "        "
   ],
   "outputs": [],
   "metadata": {}
  },
  {
   "cell_type": "code",
   "execution_count": 94,
   "source": [
    "\r\n",
    "rooms = [\"[403]James\", \"[404]Azad, Louis, Andy\", \"[101]Azad,Gaurd\"]\r\n",
    "rooms = [\"[101]Azad, Gaurd\",\"[202]Gaurd\", \"[101]azad, gaurd\",\"[303]Gaurd, Dzaz\"]\r\n",
    "target = 202\r\n",
    "def solution(rooms, target):\r\n",
    "    dic = {}\r\n",
    "    for i in rooms:\r\n",
    "        idx = i.find(']') \r\n",
    "        number = i[1:idx]\r\n",
    "        name = i[idx+1:].split(',')\r\n",
    "        distance = abs(target -int(number))\r\n",
    "        for j in name:\r\n",
    "            j=j.lstrip()\r\n",
    "            try:\r\n",
    "                dic[j].append(distance)\r\n",
    "            except:\r\n",
    "                dic[j] = []   \r\n",
    "                dic[j].append(distance)\r\n",
    "                \r\n",
    "    p_answer =sorted(dic.items(), key=lambda x: (len(x[1]), x[1],x[0]))\r\n",
    "    answer = []\r\n",
    "    for i in p_answer:\r\n",
    "        if 0 in i[1]:\r\n",
    "            continue \r\n",
    "        else:\r\n",
    "            answer.append(i[0])\r\n",
    "    return answer            "
   ],
   "outputs": [],
   "metadata": {}
  },
  {
   "cell_type": "code",
   "execution_count": 95,
   "source": [
    "solution(rooms, target)"
   ],
   "outputs": [
    {
     "output_type": "execute_result",
     "data": {
      "text/plain": [
       "['Azad', 'Dzaz', 'azad', 'gaurd']"
      ]
     },
     "metadata": {},
     "execution_count": 95
    }
   ],
   "metadata": {}
  },
  {
   "cell_type": "code",
   "execution_count": 117,
   "source": [
    "\"abca\""
   ],
   "outputs": [],
   "metadata": {}
  },
  {
   "cell_type": "code",
   "execution_count": 3,
   "source": [
    "from itertools import permutations, combinations\r\n",
    "a=list(set(permutations(\"abca\",4)))"
   ],
   "outputs": [],
   "metadata": {}
  },
  {
   "cell_type": "code",
   "execution_count": 167,
   "source": [
    "for j in 'aabb':\r\n",
    "    print(j)\r\n",
    "    if remem ==j:\r\n",
    "        print(1)\r\n",
    "    else:\r\n",
    "        print(remem)\r\n",
    "        continue\r\n",
    "    remem = j"
   ],
   "outputs": [
    {
     "output_type": "stream",
     "name": "stdout",
     "text": [
      "a\n",
      "1\n",
      "a\n",
      "1\n",
      "b\n",
      "1\n",
      "b\n",
      "1\n"
     ]
    }
   ],
   "metadata": {}
  },
  {
   "cell_type": "code",
   "execution_count": 180,
   "source": [
    "s1 = set([1,2,3])"
   ],
   "outputs": [
    {
     "output_type": "error",
     "ename": "TypeError",
     "evalue": "'tuple' object is not callable",
     "traceback": [
      "\u001b[1;31m---------------------------------------------------------------------------\u001b[0m",
      "\u001b[1;31mTypeError\u001b[0m                                 Traceback (most recent call last)",
      "\u001b[1;32m<ipython-input-180-00a2c8eda022>\u001b[0m in \u001b[0;36m<module>\u001b[1;34m\u001b[0m\n\u001b[1;32m----> 1\u001b[1;33m \u001b[0ms1\u001b[0m \u001b[1;33m=\u001b[0m \u001b[0mset\u001b[0m\u001b[1;33m(\u001b[0m\u001b[1;33m[\u001b[0m\u001b[1;36m1\u001b[0m\u001b[1;33m,\u001b[0m\u001b[1;36m2\u001b[0m\u001b[1;33m,\u001b[0m\u001b[1;36m3\u001b[0m\u001b[1;33m]\u001b[0m\u001b[1;33m)\u001b[0m\u001b[1;33m\u001b[0m\u001b[1;33m\u001b[0m\u001b[0m\n\u001b[0m",
      "\u001b[1;31mTypeError\u001b[0m: 'tuple' object is not callable"
     ]
    }
   ],
   "metadata": {}
  },
  {
   "cell_type": "code",
   "execution_count": 181,
   "source": [
    "s1 = set([1,2,3])"
   ],
   "outputs": [
    {
     "output_type": "error",
     "ename": "TypeError",
     "evalue": "'tuple' object is not callable",
     "traceback": [
      "\u001b[1;31m---------------------------------------------------------------------------\u001b[0m",
      "\u001b[1;31mTypeError\u001b[0m                                 Traceback (most recent call last)",
      "\u001b[1;32m<ipython-input-181-00a2c8eda022>\u001b[0m in \u001b[0;36m<module>\u001b[1;34m\u001b[0m\n\u001b[1;32m----> 1\u001b[1;33m \u001b[0ms1\u001b[0m \u001b[1;33m=\u001b[0m \u001b[0mset\u001b[0m\u001b[1;33m(\u001b[0m\u001b[1;33m[\u001b[0m\u001b[1;36m1\u001b[0m\u001b[1;33m,\u001b[0m\u001b[1;36m2\u001b[0m\u001b[1;33m,\u001b[0m\u001b[1;36m3\u001b[0m\u001b[1;33m]\u001b[0m\u001b[1;33m)\u001b[0m\u001b[1;33m\u001b[0m\u001b[1;33m\u001b[0m\u001b[0m\n\u001b[0m",
      "\u001b[1;31mTypeError\u001b[0m: 'tuple' object is not callable"
     ]
    }
   ],
   "metadata": {}
  },
  {
   "cell_type": "code",
   "execution_count": null,
   "source": [
    "SELECT \r\n",
    "ID,\r\n",
    "LINE_COLOR,\r\n",
    "STATION_ID,\r\n",
    "DRIVE_ORDER,\r\n",
    "LEAD(STATION_ID, 1) OVER(\r\n",
    "    PARTIION BY( LINE_COLOR) ORDER BY(DRIVE_ORDER)) NEXT_STATION_ID\r\n",
    "FROM LINE_ROUTES\r\n",
    "ORDER BY ID\r\n",
    ")"
   ],
   "outputs": [],
   "metadata": {}
  },
  {
   "cell_type": "code",
   "execution_count": 11,
   "source": [
    "import re\r\n",
    "string =  \"[403]James, Louis\"\r\n",
    "numbers = re.sub(r'[^0-9]', '', string)\r\n",
    "special = re.sub(r'[^ A-Za-z,]', '', string)\r\n"
   ],
   "outputs": [],
   "metadata": {}
  },
  {
   "cell_type": "code",
   "execution_count": 12,
   "source": [
    "numbers, special"
   ],
   "outputs": [
    {
     "output_type": "execute_result",
     "data": {
      "text/plain": [
       "('403', 'James, Louis')"
      ]
     },
     "metadata": {},
     "execution_count": 12
    }
   ],
   "metadata": {}
  },
  {
   "cell_type": "code",
   "execution_count": 40,
   "source": [
    " line = 'abaabaa'\r\n",
    " m = re.findall(r'(.)(\\1+)')"
   ],
   "outputs": [
    {
     "output_type": "error",
     "ename": "TypeError",
     "evalue": "findall() missing 1 required positional argument: 'string'",
     "traceback": [
      "\u001b[1;31m---------------------------------------------------------------------------\u001b[0m",
      "\u001b[1;31mTypeError\u001b[0m                                 Traceback (most recent call last)",
      "\u001b[1;32m<ipython-input-40-d53ddeb95dab>\u001b[0m in \u001b[0;36m<module>\u001b[1;34m\u001b[0m\n\u001b[0;32m      1\u001b[0m \u001b[0mline\u001b[0m \u001b[1;33m=\u001b[0m \u001b[1;34m'abaabaa'\u001b[0m\u001b[1;33m\u001b[0m\u001b[1;33m\u001b[0m\u001b[0m\n\u001b[1;32m----> 2\u001b[1;33m \u001b[0mm\u001b[0m \u001b[1;33m=\u001b[0m \u001b[0mre\u001b[0m\u001b[1;33m.\u001b[0m\u001b[0mfindall\u001b[0m\u001b[1;33m(\u001b[0m\u001b[1;34mr'(.)(\\1+)'\u001b[0m\u001b[1;33m)\u001b[0m\u001b[1;33m\u001b[0m\u001b[1;33m\u001b[0m\u001b[0m\n\u001b[0m",
      "\u001b[1;31mTypeError\u001b[0m: findall() missing 1 required positional argument: 'string'"
     ]
    }
   ],
   "metadata": {}
  },
  {
   "cell_type": "code",
   "execution_count": 51,
   "source": [
    "from itertools import permutations\r\n",
    "a=list(set(permutations(\"abca\",4)))"
   ],
   "outputs": [],
   "metadata": {}
  },
  {
   "cell_type": "code",
   "execution_count": 52,
   "source": [
    "lis = []\r\n",
    "for i in a:\r\n",
    "    b=''.join(i)\r\n",
    "    c = re.findall(r'(.)(\\1+)',b)\r\n",
    "    # \\1+이 있으니까 첫번째 부분식 (.+)와 똑같은 내용이 그 뒤에 1번 이상 있는 문자열\r\n",
    "    if c:\r\n",
    "        continue\r\n",
    "    else:\r\n",
    "        lis.append(b)\r\n",
    "        "
   ],
   "outputs": [],
   "metadata": {}
  },
  {
   "cell_type": "code",
   "execution_count": 53,
   "source": [
    "lis"
   ],
   "outputs": [
    {
     "output_type": "execute_result",
     "data": {
      "text/plain": [
       "['abac', 'baca', 'acab', 'abca', 'acba', 'caba']"
      ]
     },
     "metadata": {},
     "execution_count": 53
    }
   ],
   "metadata": {}
  },
  {
   "cell_type": "code",
   "execution_count": 55,
   "source": [
    "from itertools import permutations\r\n",
    "a=list(set(permutations(\"abca\",4)))\r\n",
    "answer = []\r\n",
    "for i in a:\r\n",
    "    count = 0\r\n",
    "    remem = ''\r\n",
    "    for j in i:\r\n",
    "        if remem ==j:\r\n",
    "            break\r\n",
    "        else:\r\n",
    "            count+=1            \r\n",
    "        remem = j\r\n",
    "    if count == len(i):\r\n",
    "        answer.append(''.join(i))\r\n",
    "sorted(answer)    "
   ],
   "outputs": [
    {
     "output_type": "execute_result",
     "data": {
      "text/plain": [
       "['abac', 'abca', 'acab', 'acba', 'baca', 'caba']"
      ]
     },
     "metadata": {},
     "execution_count": 55
    }
   ],
   "metadata": {}
  },
  {
   "cell_type": "code",
   "execution_count": 12,
   "source": [
    "a= [[1],[2,3]]"
   ],
   "outputs": [],
   "metadata": {}
  },
  {
   "cell_type": "code",
   "execution_count": 16,
   "source": [
    "a[:1] "
   ],
   "outputs": [
    {
     "output_type": "execute_result",
     "data": {
      "text/plain": [
       "[[1]]"
      ]
     },
     "metadata": {},
     "execution_count": 16
    }
   ],
   "metadata": {}
  },
  {
   "cell_type": "code",
   "execution_count": 4,
   "source": [
    "a"
   ],
   "outputs": [
    {
     "output_type": "execute_result",
     "data": {
      "text/plain": [
       "0"
      ]
     },
     "metadata": {},
     "execution_count": 4
    }
   ],
   "metadata": {}
  },
  {
   "cell_type": "code",
   "execution_count": 76,
   "source": [
    "import copy\r\n",
    "def solution(triangle):\r\n",
    "    memo = 0\r\n",
    "    for idx, i in enumerate(triangle[:-1]):\r\n",
    "        comp = triangle[idx+1].copy()\r\n",
    "        memo = triangle[idx+1]\r\n",
    "        for j in range(len(i)):\r\n",
    "            first = i[j] + comp[j] \r\n",
    "            second = i[j] + comp[j+1]\r\n",
    "            if  first >= memo[j]: \r\n",
    "                memo[j] = first\r\n",
    "            if  second >= memo[j+1]:          \r\n",
    "                memo[j+1] = second\r\n",
    "        triangle[idx+1] = memo\r\n",
    "        \r\n",
    "    answer=max(triangle[-1])\r\n",
    "    return answer"
   ],
   "outputs": [],
   "metadata": {}
  },
  {
   "cell_type": "code",
   "execution_count": 77,
   "source": [
    "solution([[7], [3, 8], [8, 1, 0], [2, 7, 4, 4], [4, 5, 2, 6, 5]])"
   ],
   "outputs": [
    {
     "output_type": "execute_result",
     "data": {
      "text/plain": [
       "30"
      ]
     },
     "metadata": {},
     "execution_count": 77
    }
   ],
   "metadata": {}
  },
  {
   "cell_type": "code",
   "execution_count": null,
   "source": [],
   "outputs": [],
   "metadata": {}
  },
  {
   "cell_type": "code",
   "execution_count": null,
   "source": [],
   "outputs": [],
   "metadata": {}
  }
 ],
 "metadata": {
  "orig_nbformat": 4,
  "language_info": {
   "name": "python",
   "version": "3.7.6",
   "mimetype": "text/x-python",
   "codemirror_mode": {
    "name": "ipython",
    "version": 3
   },
   "pygments_lexer": "ipython3",
   "nbconvert_exporter": "python",
   "file_extension": ".py"
  },
  "kernelspec": {
   "name": "python3",
   "display_name": "Python 3.7.6 64-bit"
  },
  "interpreter": {
   "hash": "491f1d11d91e2d650b98b1cc1dab0249501924ce5caed8751179785ec60ed53c"
  }
 },
 "nbformat": 4,
 "nbformat_minor": 2
}